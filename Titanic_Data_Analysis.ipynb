{
 "cells": [
  {
   "cell_type": "markdown",
   "id": "d25b2ae4",
   "metadata": {},
   "source": [
    "# Titanic Data Analysis (Beginner)\n",
    "\n",
    "This notebook is a simple, beginner‑friendly analysis of a small Titanic dataset. It covers loading data, quick exploration, cleaning basics, and a few visualizations using **matplotlib**.\n",
    "\n",
    "**How to use:**\n",
    "1. Run each cell from top to bottom.\n",
    "2. Modify the code and re-run to learn by doing.\n",
    "\n",
    "**Files included:**\n",
    "- `titanic_sample.csv` — a small CSV file in the same folder as this notebook.\n"
   ]
  },
  {
   "cell_type": "code",
   "execution_count": null,
   "id": "a3d3b1ff",
   "metadata": {},
   "outputs": [],
   "source": [
    "import pandas as pd\n",
    "import matplotlib.pyplot as plt\n",
    "from pathlib import Path\n",
    "\n",
    "pd.set_option('display.max_rows', 10)\n",
    "pd.set_option('display.max_columns', None)\n"
   ]
  },
  {
   "cell_type": "markdown",
   "id": "80f8b074",
   "metadata": {},
   "source": [
    "## 1) Load the data"
   ]
  },
  {
   "cell_type": "code",
   "execution_count": null,
   "id": "e2ec7315",
   "metadata": {},
   "outputs": [],
   "source": [
    "data_path = Path('titanic_sample.csv')\n",
    "df = pd.read_csv(data_path)\n",
    "df.head()"
   ]
  },
  {
   "cell_type": "markdown",
   "id": "2079359d",
   "metadata": {},
   "source": [
    "## 2) Quick exploration"
   ]
  },
  {
   "cell_type": "code",
   "execution_count": null,
   "id": "ece9f7dd",
   "metadata": {},
   "outputs": [],
   "source": [
    "print('Shape:', df.shape)\n",
    "print('\\nInfo:')\n",
    "print(df.dtypes)\n",
    "\n",
    "df.describe(include='all')"
   ]
  },
  {
   "cell_type": "markdown",
   "id": "8d4f3490",
   "metadata": {},
   "source": [
    "## 3) Basic cleaning\n",
    "- Convert categorical columns to 'category'\n",
    "- Handle any missing values (if present)"
   ]
  },
  {
   "cell_type": "code",
   "execution_count": null,
   "id": "09a8fe61",
   "metadata": {},
   "outputs": [],
   "source": [
    "categorical_cols = ['Sex', 'Embarked']\n",
    "for c in categorical_cols:\n",
    "    df[c] = df[c].astype('category')\n",
    "\n",
    "# Example: fill missing ages with the median (dataset here has no missing Age, but this shows the pattern)\n",
    "if df['Age'].isna().any():\n",
    "    df['Age'] = df['Age'].fillna(df['Age'].median())\n",
    "\n",
    "df.head()"
   ]
  },
  {
   "cell_type": "markdown",
   "id": "5f6efa48",
   "metadata": {},
   "source": [
    "## 4) Visualizations"
   ]
  },
  {
   "cell_type": "code",
   "execution_count": null,
   "id": "e48ecee4",
   "metadata": {},
   "outputs": [],
   "source": [
    "# 4.1 Survival counts by Sex\n",
    "ax = df.groupby('Sex')['Survived'].mean().plot(kind='bar')\n",
    "ax.set_title('Average Survival Rate by Sex')\n",
    "ax.set_ylabel('Survival Rate')\n",
    "ax.set_xlabel('Sex')\n",
    "plt.show()"
   ]
  },
  {
   "cell_type": "code",
   "execution_count": null,
   "id": "e69e3300",
   "metadata": {},
   "outputs": [],
   "source": [
    "# 4.2 Age distribution\n",
    "ax = df['Age'].plot(kind='hist', bins=10)\n",
    "ax.set_title('Age Distribution')\n",
    "ax.set_xlabel('Age')\n",
    "plt.show()"
   ]
  },
  {
   "cell_type": "markdown",
   "id": "57cc153e",
   "metadata": {},
   "source": [
    "## 5) Feature preparation example (optional)\n",
    "This section shows how to prepare features for a simple ML model (no training here)."
   ]
  },
  {
   "cell_type": "code",
   "execution_count": null,
   "id": "8c1007f4",
   "metadata": {},
   "outputs": [],
   "source": [
    "df_model = df.copy()\n",
    "df_model['Sex'] = df_model['Sex'].cat.codes\n",
    "df_model['Embarked'] = df_model['Embarked'].cat.codes\n",
    "\n",
    "features = ['Pclass', 'Sex', 'Age', 'SibSp', 'Parch', 'Fare', 'Embarked']\n",
    "target = 'Survived'\n",
    "\n",
    "X = df_model[features]\n",
    "y = df_model[target]\n",
    "\n",
    "X.head()"
   ]
  },
  {
   "cell_type": "markdown",
   "id": "a857cace",
   "metadata": {},
   "source": [
    "## Next steps\n",
    "- Try splitting the data into train/test sets and fitting a Logistic Regression model.\n",
    "- Add more visualizations (e.g., survival by class, fare distribution).\n",
    "- Write your findings in the README of your GitHub repository."
   ]
  }
 ],
 "metadata": {
  "kernelspec": {
   "display_name": "Python 3",
   "language": "python",
   "name": "python3"
  }
 },
 "nbformat": 4,
 "nbformat_minor": 5
}
